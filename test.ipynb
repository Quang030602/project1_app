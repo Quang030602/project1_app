{
 "cells": [
  {
   "cell_type": "code",
   "execution_count": 2,
   "id": "1ed3d470",
   "metadata": {},
   "outputs": [],
   "source": [
    "import streamlit as st\n",
    "import pandas as pd\n",
    "import numpy as np\n",
    "from wordcloud import WordCloud\n",
    "import matplotlib.pyplot as plt\n",
    "import joblib\n",
    "import plotly.graph_objects as go"
   ]
  },
  {
   "cell_type": "code",
   "execution_count": 3,
   "id": "374aaaa1",
   "metadata": {},
   "outputs": [],
   "source": [
    "def load_data():\n",
    "    reviews = pd.read_excel(\"Du lieu cung cap/Reviews.xlsx\")\n",
    "    overview_companies = pd.read_excel(\"Du lieu cung cap/Overview_Companies.xlsx\")\n",
    "    overview_reviews = pd.read_excel(\"Du lieu cung cap/Overview_Reviews.xlsx\")\n",
    "    return reviews, overview_companies, overview_reviews\n",
    "\n",
    "reviews, overview_companies, overview_reviews = load_data()"
   ]
  },
  {
   "cell_type": "code",
   "execution_count": 10,
   "id": "33bbedd4",
   "metadata": {},
   "outputs": [
    {
     "ename": "NameError",
     "evalue": "name 'selected_company' is not defined",
     "output_type": "error",
     "traceback": [
      "\u001b[1;31m---------------------------------------------------------------------------\u001b[0m",
      "\u001b[1;31mNameError\u001b[0m                                 Traceback (most recent call last)",
      "Cell \u001b[1;32mIn[10], line 1\u001b[0m\n\u001b[1;32m----> 1\u001b[0m company_reviews \u001b[38;5;241m=\u001b[39m reviews[reviews[\u001b[38;5;124m\"\u001b[39m\u001b[38;5;124mCompany Name\u001b[39m\u001b[38;5;124m\"\u001b[39m]\u001b[38;5;241m.\u001b[39mstr\u001b[38;5;241m.\u001b[39mcontains(\u001b[43mselected_company\u001b[49m, case\u001b[38;5;241m=\u001b[39m\u001b[38;5;28;01mFalse\u001b[39;00m, na\u001b[38;5;241m=\u001b[39m\u001b[38;5;28;01mFalse\u001b[39;00m)]\n",
      "\u001b[1;31mNameError\u001b[0m: name 'selected_company' is not defined"
     ]
    }
   ],
   "source": [
    "company_reviews = reviews[reviews[\"Company Name\"].str.contains(selected_company, case=False, na=False)]\n",
    "\n"
   ]
  }
 ],
 "metadata": {
  "kernelspec": {
   "display_name": "Python 3",
   "language": "python",
   "name": "python3"
  },
  "language_info": {
   "codemirror_mode": {
    "name": "ipython",
    "version": 3
   },
   "file_extension": ".py",
   "mimetype": "text/x-python",
   "name": "python",
   "nbconvert_exporter": "python",
   "pygments_lexer": "ipython3",
   "version": "3.10.11"
  }
 },
 "nbformat": 4,
 "nbformat_minor": 5
}
