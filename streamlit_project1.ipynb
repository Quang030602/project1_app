{
 "cells": [
  {
   "cell_type": "code",
   "execution_count": null,
   "id": "79f14bc6",
   "metadata": {},
   "outputs": [],
   "source": [
    "import streamlit as st\n",
    "import pandas as pd\n",
    "import numpy as np\n",
    "from wordcloud import WordCloud\n",
    "import matplotlib.pyplot as plt\n",
    "import joblib\n"
   ]
  },
  {
   "cell_type": "code",
   "execution_count": 6,
   "id": "442dc287",
   "metadata": {},
   "outputs": [],
   "source": [
    "\n",
    "# Load data và model đã train sẵn\n",
    "reviews = pd.read_excel(\"Du lieu cung cap/Reviews.xlsx\")\n",
    "overview_companies = pd.read_excel(\"Du lieu cung cap/Overview_Companies.xlsx\")\n",
    "overview_reviews = pd.read_excel(\"Du lieu cung cap/Overview_Reviews.xlsx\")\n"
   ]
  },
  {
   "cell_type": "code",
   "execution_count": 8,
   "id": "b5801218",
   "metadata": {},
   "outputs": [],
   "source": [
    "\n",
    "sentiment_model = joblib.load(\"sentiment_model.pkl\") # Model phân tích cảm xúc\n",
    "cluster_model = joblib.load(\"cluster_model.pkl\")     # Model phân cụm\n",
    "cluster_keywords = joblib.load(\"cluster_keywords.pkl\") # Dict cụm: top keywords"
   ]
  },
  {
   "cell_type": "code",
   "execution_count": 9,
   "id": "56e372f9",
   "metadata": {},
   "outputs": [
    {
     "name": "stderr",
     "output_type": "stream",
     "text": [
      "2025-06-27 23:24:30.414 WARNING streamlit.runtime.scriptrunner_utils.script_run_context: Thread 'MainThread': missing ScriptRunContext! This warning can be ignored when running in bare mode.\n",
      "2025-06-27 23:24:30.593 \n",
      "  \u001b[33m\u001b[1mWarning:\u001b[0m to view this Streamlit app on a browser, run it with the following\n",
      "  command:\n",
      "\n",
      "    streamlit run C:\\Users\\Admin\\AppData\\Local\\Packages\\PythonSoftwareFoundation.Python.3.10_qbz5n2kfra8p0\\LocalCache\\local-packages\\Python310\\site-packages\\ipykernel_launcher.py [ARGUMENTS]\n",
      "2025-06-27 23:24:30.594 Thread 'MainThread': missing ScriptRunContext! This warning can be ignored when running in bare mode.\n",
      "2025-06-27 23:24:30.594 Thread 'MainThread': missing ScriptRunContext! This warning can be ignored when running in bare mode.\n",
      "2025-06-27 23:24:30.596 Thread 'MainThread': missing ScriptRunContext! This warning can be ignored when running in bare mode.\n",
      "2025-06-27 23:24:30.596 Thread 'MainThread': missing ScriptRunContext! This warning can be ignored when running in bare mode.\n",
      "2025-06-27 23:24:30.597 Thread 'MainThread': missing ScriptRunContext! This warning can be ignored when running in bare mode.\n",
      "2025-06-27 23:24:30.598 Thread 'MainThread': missing ScriptRunContext! This warning can be ignored when running in bare mode.\n",
      "2025-06-27 23:24:30.598 Session state does not function when running a script without `streamlit run`\n",
      "2025-06-27 23:24:30.598 Thread 'MainThread': missing ScriptRunContext! This warning can be ignored when running in bare mode.\n",
      "2025-06-27 23:24:30.599 Thread 'MainThread': missing ScriptRunContext! This warning can be ignored when running in bare mode.\n",
      "2025-06-27 23:24:30.599 Thread 'MainThread': missing ScriptRunContext! This warning can be ignored when running in bare mode.\n",
      "2025-06-27 23:24:30.599 Thread 'MainThread': missing ScriptRunContext! This warning can be ignored when running in bare mode.\n",
      "2025-06-27 23:24:30.600 Thread 'MainThread': missing ScriptRunContext! This warning can be ignored when running in bare mode.\n",
      "2025-06-27 23:24:30.600 Thread 'MainThread': missing ScriptRunContext! This warning can be ignored when running in bare mode.\n",
      "2025-06-27 23:24:30.600 Thread 'MainThread': missing ScriptRunContext! This warning can be ignored when running in bare mode.\n",
      "2025-06-27 23:24:30.600 Thread 'MainThread': missing ScriptRunContext! This warning can be ignored when running in bare mode.\n",
      "2025-06-27 23:24:30.601 Thread 'MainThread': missing ScriptRunContext! This warning can be ignored when running in bare mode.\n",
      "2025-06-27 23:24:30.601 Thread 'MainThread': missing ScriptRunContext! This warning can be ignored when running in bare mode.\n"
     ]
    }
   ],
   "source": [
    "\n",
    "st.sidebar.title(\"Phân tích công ty trên ITViec\")\n",
    "company_names = overview_companies[\"Company Name\"].unique()\n",
    "selected_company = st.sidebar.selectbox(\"Chọn công ty\", company_names)\n",
    "tab = st.sidebar.radio(\"Chọn phân tích\", (\"Phân tích cảm xúc\", \"Phân cụm đánh giá\"))\n",
    "\n",
    "# Lọc dữ liệu công ty\n",
    "company_reviews = reviews[reviews[\"Company Name\"] == selected_company]"
   ]
  },
  {
   "cell_type": "code",
   "execution_count": 12,
   "id": "dcb4433a",
   "metadata": {},
   "outputs": [
    {
     "name": "stderr",
     "output_type": "stream",
     "text": [
      "2025-06-27 23:26:38.326 Thread 'MainThread': missing ScriptRunContext! This warning can be ignored when running in bare mode.\n",
      "2025-06-27 23:26:38.328 Thread 'MainThread': missing ScriptRunContext! This warning can be ignored when running in bare mode.\n",
      "2025-06-27 23:26:38.328 Thread 'MainThread': missing ScriptRunContext! This warning can be ignored when running in bare mode.\n",
      "2025-06-27 23:26:38.329 Thread 'MainThread': missing ScriptRunContext! This warning can be ignored when running in bare mode.\n",
      "2025-06-27 23:26:38.329 Thread 'MainThread': missing ScriptRunContext! This warning can be ignored when running in bare mode.\n",
      "2025-06-27 23:26:38.330 Thread 'MainThread': missing ScriptRunContext! This warning can be ignored when running in bare mode.\n"
     ]
    }
   ],
   "source": [
    "if tab == \"Phân tích cảm xúc\":\n",
    "    st.header(f\"Phân tích cảm xúc review cho {selected_company}\")\n",
    "\n",
    "    # Kiểm tra xem có review nào không\n",
    "    if len(company_reviews) == 0 or company_reviews['What I liked'].notna().sum() == 0:\n",
    "        st.warning(f\"Không có review nào cho công ty {selected_company} hoặc tất cả review đều trống.\")\n",
    "    else:\n",
    "        # Dự đoán cảm xúc các review\n",
    "        filtered_reviews = company_reviews[company_reviews['What I liked'].notna()]\n",
    "        filtered_reviews['Sentiment'] = sentiment_model.predict(filtered_reviews['What I liked'])\n",
    "        \n",
    "        # Gán kết quả dự đoán vào company_reviews ban đầu\n",
    "        company_reviews = company_reviews.copy()\n",
    "        company_reviews.loc[company_reviews['What I liked'].notna(), 'Sentiment'] = filtered_reviews['Sentiment'].values\n",
    "\n",
    "        # Thống kê số lượng từng nhãn\n",
    "        st.subheader(\"Tổng quan cảm xúc\")\n",
    "        st.bar_chart(company_reviews['Sentiment'].value_counts())\n",
    "\n",
    "        # Wordcloud cho từng nhóm cảm xúc\n",
    "        for sentiment in ['positive', 'negative', 'neutral']:\n",
    "            text = \" \".join(company_reviews[company_reviews['Sentiment']==sentiment]['What I liked'].fillna(''))\n",
    "            if text.strip():  # Kiểm tra text không rỗng\n",
    "                wc = WordCloud(width=800, height=400).generate(text)\n",
    "                st.subheader(f\"Wordcloud cho review {sentiment}\")\n",
    "                st.image(wc.to_array())\n",
    "        \n",
    "        # Bảng các review và cảm xúc\n",
    "        st.subheader(\"Các review và cảm xúc\")\n",
    "        st.dataframe(company_reviews[['Title', 'What I liked', 'Sentiment']])\n",
    "        \n",
    "elif tab == \"Phân cụm đánh giá\":\n",
    "    st.header(f\"Phân cụm đánh giá cho {selected_company}\")\n",
    "\n",
    "    # Lấy index cụm công ty này thuộc về\n",
    "    company_idx = overview_companies[overview_companies['Company Name']==selected_company].index[0]\n",
    "    cluster_label = cluster_model.labels_[company_idx]\n",
    "    st.subheader(f\"Công ty này thuộc cụm: {cluster_label}\")\n",
    "\n",
    "    # Đặc trưng, top keywords của cụm\n",
    "    st.markdown(\"**Đặc trưng cụm:**\")\n",
    "    st.write(cluster_keywords[cluster_label])\n",
    "\n",
    "    # Pie chart tỷ lệ cụm trên toàn bộ dataset\n",
    "    cluster_counts = pd.Series(cluster_model.labels_).value_counts()\n",
    "    st.subheader(\"Tỷ lệ các cụm trên toàn bộ dữ liệu\")\n",
    "    st.pyplot(plt.figure().gca().pie(cluster_counts, labels=cluster_counts.index, autopct='%1.1f%%'))\n",
    "\n",
    "    # Đề xuất cải thiện cho cụm này (bổ sung thêm)\n",
    "    st.markdown(\"**Đề xuất cải thiện:**\")\n",
    "    # (Thêm phần này theo gợi ý của bạn, ví dụ từ bảng mapping cluster <-> improvement)\n",
    "\n",
    "    # Show review của công ty\n",
    "    st.subheader(\"Các review nổi bật của công ty\")\n",
    "    st.dataframe(company_reviews[['Title', 'What I liked']])\n",
    "\n"
   ]
  }
 ],
 "metadata": {
  "kernelspec": {
   "display_name": "Python 3",
   "language": "python",
   "name": "python3"
  },
  "language_info": {
   "codemirror_mode": {
    "name": "ipython",
    "version": 3
   },
   "file_extension": ".py",
   "mimetype": "text/x-python",
   "name": "python",
   "nbconvert_exporter": "python",
   "pygments_lexer": "ipython3",
   "version": "3.10.11"
  }
 },
 "nbformat": 4,
 "nbformat_minor": 5
}
